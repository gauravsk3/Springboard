{
 "cells": [
  {
   "cell_type": "markdown",
   "metadata": {},
   "source": [
    "This exercise will require you to pull some data from the Qunadl API. Qaundl is currently the most widely used aggregator of financial market data."
   ]
  },
  {
   "cell_type": "markdown",
   "metadata": {},
   "source": [
    "As a first step, you will need to register a free account on the http://www.quandl.com website."
   ]
  },
  {
   "cell_type": "markdown",
   "metadata": {},
   "source": [
    "After you register, you will be provided with a unique API key, that you should store:"
   ]
  },
  {
   "cell_type": "code",
   "execution_count": 59,
   "metadata": {},
   "outputs": [],
   "source": [
    "# Store the API key as a string - according to PEP8, constants are always named in all upper case\n",
    "API_KEY = 'xhB-Ae2VRyMYmv2CRGtV'"
   ]
  },
  {
   "cell_type": "markdown",
   "metadata": {},
   "source": [
    "Qaundl has a large number of data sources, but, unfortunately, most of them require a Premium subscription. Still, there are also a good number of free datasets."
   ]
  },
  {
   "cell_type": "markdown",
   "metadata": {},
   "source": [
    "For this mini project, we will focus on equities data from the Frankfurt Stock Exhange (FSE), which is available for free. We'll try and analyze the stock prices of a company called Carl Zeiss Meditec, which manufactures tools for eye examinations, as well as medical lasers for laser eye surgery: https://www.zeiss.com/meditec/int/home.html. The company is listed under the stock ticker AFX_X."
   ]
  },
  {
   "cell_type": "markdown",
   "metadata": {},
   "source": [
    "You can find the detailed Quandl API instructions here: https://docs.quandl.com/docs/time-series"
   ]
  },
  {
   "cell_type": "markdown",
   "metadata": {},
   "source": [
    "While there is a dedicated Python package for connecting to the Quandl API, we would prefer that you use the *requests* package, which can be easily downloaded using *pip* or *conda*. You can find the documentation for the package here: http://docs.python-requests.org/en/master/ "
   ]
  },
  {
   "cell_type": "markdown",
   "metadata": {},
   "source": [
    "Finally, apart from the *requests* package, you are encouraged to not use any third party Python packages, such as *pandas*, and instead focus on what's available in the Python Standard Library (the *collections* module might come in handy: https://pymotw.com/3/collections/).\n",
    "Also, since you won't have access to DataFrames, you are encouraged to us Python's native data structures - preferably dictionaries, though some questions can also be answered using lists.\n",
    "You can read more on these data structures here: https://docs.python.org/3/tutorial/datastructures.html"
   ]
  },
  {
   "cell_type": "markdown",
   "metadata": {},
   "source": [
    "Keep in mind that the JSON responses you will be getting from the API map almost one-to-one to Python's dictionaries. Unfortunately, they can be very nested, so make sure you read up on indexing dictionaries in the documentation provided above."
   ]
  },
  {
   "cell_type": "code",
   "execution_count": 77,
   "metadata": {},
   "outputs": [],
   "source": [
    "# First, import the relevant modules\n",
    "import requests"
   ]
  },
  {
   "cell_type": "code",
   "execution_count": 78,
   "metadata": {},
   "outputs": [],
   "source": [
    "# Now, call the Quandl API and pull out a small sample of the data (only one day) to get a glimpse\n",
    "# into the JSON structure that will be returned\n",
    "r = requests.get(\"https://www.quandl.com/api/v3/datasets/FSE/EON_X?start_date=2018-08-10&end_date=2018-08-10&api_key=xhB-Ae2VRyMYmv2CRGtV\")"
   ]
  },
  {
   "cell_type": "code",
   "execution_count": 79,
   "metadata": {},
   "outputs": [
    {
     "data": {
      "text/plain": [
       "{'dataset': {'collapse': None,\n",
       "  'column_index': None,\n",
       "  'column_names': ['Date',\n",
       "   'Open',\n",
       "   'High',\n",
       "   'Low',\n",
       "   'Close',\n",
       "   'Change',\n",
       "   'Traded Volume',\n",
       "   'Turnover',\n",
       "   'Last Price of the Day',\n",
       "   'Daily Traded Units',\n",
       "   'Daily Turnover'],\n",
       "  'data': [['2018-08-10',\n",
       "    None,\n",
       "    9.387,\n",
       "    9.185,\n",
       "    9.248,\n",
       "    None,\n",
       "    15825275.0,\n",
       "    146713294.0,\n",
       "    None,\n",
       "    None,\n",
       "    None]],\n",
       "  'database_code': 'FSE',\n",
       "  'database_id': 6129,\n",
       "  'dataset_code': 'EON_X',\n",
       "  'description': 'Stock Prices for E.on Se (EON) from the Frankfurt Stock Exchange.<br><br>Trading System: Xetra<br><br>ISIN: DE000ENAG999',\n",
       "  'end_date': '2018-08-10',\n",
       "  'frequency': 'daily',\n",
       "  'id': 36592406,\n",
       "  'limit': None,\n",
       "  'name': 'E.on Se (EON_X)',\n",
       "  'newest_available_date': '2018-08-10',\n",
       "  'oldest_available_date': '2003-01-20',\n",
       "  'order': None,\n",
       "  'premium': False,\n",
       "  'refreshed_at': '2018-08-10T22:48:30.848Z',\n",
       "  'start_date': '2018-08-10',\n",
       "  'transform': None,\n",
       "  'type': 'Time Series'}}"
      ]
     },
     "execution_count": 79,
     "metadata": {},
     "output_type": "execute_result"
    }
   ],
   "source": [
    "# Inspect the JSON structure of the object you created, and take note of how nested it is,\n",
    "# as well as the overall structure\n",
    "r.json()"
   ]
  },
  {
   "cell_type": "markdown",
   "metadata": {},
   "source": [
    "These are your tasks for this mini project:\n",
    "\n",
    "1. Collect data from the Franfurt Stock Exchange, for the ticker AFX_X, for the whole year 2017 (keep in mind that the date format is YYYY-MM-DD).\n",
    "2. Convert the returned JSON object into a Python dictionary.\n",
    "3. Calculate what the highest and lowest opening prices were for the stock in this period.\n",
    "4. What was the largest change in any one day (based on High and Low price)?\n",
    "5. What was the largest change between any two days (based on Closing Price)?\n",
    "6. What was the average daily trading volume during this year?\n",
    "7. (Optional) What was the median trading volume during this year. (Note: you may need to implement your own function for calculating the median.)"
   ]
  },
  {
   "cell_type": "code",
   "execution_count": 80,
   "metadata": {},
   "outputs": [],
   "source": [
    "# TASK 1\n",
    "r = requests.get(\"https://www.quandl.com/api/v3/datasets/FSE/AFX_X?start_date=2017-01-01&end_date=2017-12-31&api_key=xhB-Ae2VRyMYmv2CRGtV\")"
   ]
  },
  {
   "cell_type": "code",
   "execution_count": 81,
   "metadata": {},
   "outputs": [],
   "source": [
    "# TASK 2\n",
    "fse2017 = dict(r.json())"
   ]
  },
  {
   "cell_type": "code",
   "execution_count": 82,
   "metadata": {},
   "outputs": [
    {
     "name": "stdout",
     "output_type": "stream",
     "text": [
      "Highest opening price: $ 53.11 \t Lowest opening price: $ 34.0\n"
     ]
    }
   ],
   "source": [
    "# TASK 3\n",
    "# create list of daily opening prices\n",
    "open_index = fse2017['dataset']['column_names'].index('Open')\n",
    "opening = [day[open_index] for day in fse2017['dataset']['data'] if day[open_index] is not None]\n",
    "# select and print highest and lowest values from list\n",
    "highest = max(opening)\n",
    "lowest = min(opening)\n",
    "print(\"Highest opening price: $\",highest,\"\\t\",\"Lowest opening price: $\",lowest)"
   ]
  },
  {
   "cell_type": "code",
   "execution_count": 83,
   "metadata": {},
   "outputs": [
    {
     "name": "stdout",
     "output_type": "stream",
     "text": [
      "Largest one-day change: $ 2.8100000000000023\n"
     ]
    }
   ],
   "source": [
    "# TASK 4\n",
    "# select and print maximum value from list of daily price changes\n",
    "max_index = fse2017['dataset']['column_names'].index('High')\n",
    "min_index = fse2017['dataset']['column_names'].index('Low')\n",
    "largest_change = max([day[max_index] - day[min_index] for day in fse2017['dataset']['data']])\n",
    "print(\"Largest one-day change: $\",largest_change)"
   ]
  },
  {
   "cell_type": "code",
   "execution_count": 84,
   "metadata": {},
   "outputs": [
    {
     "name": "stdout",
     "output_type": "stream",
     "text": [
      "Largest change between any two days: $ 2.559999999999995\n"
     ]
    }
   ],
   "source": [
    "# TASK 5\n",
    "# create list of daily closing prices\n",
    "close_index = fse2017['dataset']['column_names'].index('Close')\n",
    "closing = [day[close_index] for day in fse2017['dataset']['data']]\n",
    "# calculate and print maximum difference between two days' closing prices\n",
    "largest_diff = max([closing[i+1]-closing[i] for i in range(len(closing)-1)])\n",
    "print(\"Largest change between any two days: $\",largest_diff)"
   ]
  },
  {
   "cell_type": "code",
   "execution_count": 85,
   "metadata": {},
   "outputs": [
    {
     "name": "stdout",
     "output_type": "stream",
     "text": [
      "Average daily traded volume: $ 89124.33725490196\n"
     ]
    }
   ],
   "source": [
    "# TASK 6\n",
    "# create list of daily traded volumes\n",
    "volume_index = fse2017['dataset']['column_names'].index('Traded Volume')\n",
    "volumes = [day[volume_index] for day in fse2017['dataset']['data']]\n",
    "# calculate and print average volume\n",
    "average_vol = sum(volumes)/len(volumes)\n",
    "print(\"Average daily traded volume: $\",average_vol)"
   ]
  },
  {
   "cell_type": "code",
   "execution_count": 86,
   "metadata": {},
   "outputs": [
    {
     "name": "stdout",
     "output_type": "stream",
     "text": [
      "Median daily traded volume: $ 76443.0\n"
     ]
    }
   ],
   "source": [
    "# TASK 7\n",
    "# create function that takes the median of a list\n",
    "def median(list_vals):\n",
    "    list_len = len(list_vals)\n",
    "    middle_index = (list_len-1)//2\n",
    "    list_vals = sorted(list_vals)\n",
    "    # handle cases for both odd and even list lengths\n",
    "    if list_len%2 == 0:\n",
    "        return list_vals[middle_index]\n",
    "    else:\n",
    "        return (list_vals[middle_index] + list_vals[middle_index + 1])/2\n",
    "# calculate and print median volume\n",
    "median_vol = median(volumes)\n",
    "print(\"Median daily traded volume: $\",median_vol)"
   ]
  }
 ],
 "metadata": {
  "kernelspec": {
   "display_name": "Python 3",
   "language": "python",
   "name": "python3"
  },
  "language_info": {
   "codemirror_mode": {
    "name": "ipython",
    "version": 3
   },
   "file_extension": ".py",
   "mimetype": "text/x-python",
   "name": "python",
   "nbconvert_exporter": "python",
   "pygments_lexer": "ipython3",
   "version": "3.6.4"
  }
 },
 "nbformat": 4,
 "nbformat_minor": 2
}
